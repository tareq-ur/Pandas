{
 "cells": [
  {
   "cell_type": "markdown",
   "id": "654228bd",
   "metadata": {},
   "source": [
    "Data frame"
   ]
  },
  {
   "cell_type": "code",
   "execution_count": 1,
   "id": "01ea30fb",
   "metadata": {},
   "outputs": [
    {
     "name": "stdout",
     "output_type": "stream",
     "text": [
      "     Name  Age  id  GPA Department\n",
      "0   Tareq   20   1  3.5        CSE\n",
      "1     Ali   21   2  3.6        EEE\n",
      "2    Sara   22   3  3.7        BBA\n",
      "3  Hassan   23   4  3.8        CSE\n",
      "4   Hanan   24   5  3.9        EEE\n",
      "5    Hadi   25   6  4.0        BBA\n",
      "6  alamin   26   7  4.1        CSE\n",
      "7   sakil   27   8  4.2        EEE\n",
      "8  sabbir   28   9  4.3        BBA\n"
     ]
    }
   ],
   "source": [
    "import numpy  as np\n",
    "\n",
    "import pandas as pd\n",
    "\n",
    "student = pd.DataFrame({\n",
    "    'Name': ['Tareq', 'Ali', 'Sara', 'Hassan', 'Hanan', 'Hadi','alamin','sakil','sabbir'],\n",
    "    'Age': [20, 21, 22, 23, 24, 25,26,27,28],\n",
    "    'id': [1, 2, 3, 4, 5, 6,7,8,9],\n",
    "    'GPA': [3.5, 3.6, 3.7, 3.8, 3.9, 4.0,4.1,4.2,4.3],\n",
    "    'Department': ['CSE', 'EEE', 'BBA', 'CSE', 'EEE', 'BBA','CSE','EEE','BBA']})\n",
    "print(student)\n",
    "\n"
   ]
  },
  {
   "cell_type": "code",
   "execution_count": 2,
   "id": "eaecb499",
   "metadata": {},
   "outputs": [
    {
     "data": {
      "text/html": [
       "<div>\n",
       "<style scoped>\n",
       "    .dataframe tbody tr th:only-of-type {\n",
       "        vertical-align: middle;\n",
       "    }\n",
       "\n",
       "    .dataframe tbody tr th {\n",
       "        vertical-align: top;\n",
       "    }\n",
       "\n",
       "    .dataframe thead th {\n",
       "        text-align: right;\n",
       "    }\n",
       "</style>\n",
       "<table border=\"1\" class=\"dataframe\">\n",
       "  <thead>\n",
       "    <tr style=\"text-align: right;\">\n",
       "      <th></th>\n",
       "      <th>Name</th>\n",
       "      <th>Age</th>\n",
       "      <th>id</th>\n",
       "      <th>GPA</th>\n",
       "      <th>Department</th>\n",
       "    </tr>\n",
       "  </thead>\n",
       "  <tbody>\n",
       "    <tr>\n",
       "      <th>0</th>\n",
       "      <td>Tareq</td>\n",
       "      <td>20</td>\n",
       "      <td>1</td>\n",
       "      <td>3.5</td>\n",
       "      <td>CSE</td>\n",
       "    </tr>\n",
       "    <tr>\n",
       "      <th>1</th>\n",
       "      <td>Ali</td>\n",
       "      <td>21</td>\n",
       "      <td>2</td>\n",
       "      <td>3.6</td>\n",
       "      <td>EEE</td>\n",
       "    </tr>\n",
       "    <tr>\n",
       "      <th>2</th>\n",
       "      <td>Sara</td>\n",
       "      <td>22</td>\n",
       "      <td>3</td>\n",
       "      <td>3.7</td>\n",
       "      <td>BBA</td>\n",
       "    </tr>\n",
       "  </tbody>\n",
       "</table>\n",
       "</div>"
      ],
      "text/plain": [
       "    Name  Age  id  GPA Department\n",
       "0  Tareq   20   1  3.5        CSE\n",
       "1    Ali   21   2  3.6        EEE\n",
       "2   Sara   22   3  3.7        BBA"
      ]
     },
     "execution_count": 2,
     "metadata": {},
     "output_type": "execute_result"
    }
   ],
   "source": [
    "student.head(3)"
   ]
  },
  {
   "cell_type": "code",
   "execution_count": 3,
   "id": "0c12af1e",
   "metadata": {},
   "outputs": [
    {
     "name": "stdout",
     "output_type": "stream",
     "text": [
      "<class 'pandas.core.frame.DataFrame'>\n",
      "RangeIndex: 9 entries, 0 to 8\n",
      "Data columns (total 5 columns):\n",
      " #   Column      Non-Null Count  Dtype  \n",
      "---  ------      --------------  -----  \n",
      " 0   Name        9 non-null      object \n",
      " 1   Age         9 non-null      int64  \n",
      " 2   id          9 non-null      int64  \n",
      " 3   GPA         9 non-null      float64\n",
      " 4   Department  9 non-null      object \n",
      "dtypes: float64(1), int64(2), object(2)\n",
      "memory usage: 492.0+ bytes\n"
     ]
    }
   ],
   "source": [
    "student.info()"
   ]
  },
  {
   "cell_type": "code",
   "execution_count": 4,
   "id": "bc5f6b45",
   "metadata": {},
   "outputs": [
    {
     "data": {
      "text/html": [
       "<div>\n",
       "<style scoped>\n",
       "    .dataframe tbody tr th:only-of-type {\n",
       "        vertical-align: middle;\n",
       "    }\n",
       "\n",
       "    .dataframe tbody tr th {\n",
       "        vertical-align: top;\n",
       "    }\n",
       "\n",
       "    .dataframe thead th {\n",
       "        text-align: right;\n",
       "    }\n",
       "</style>\n",
       "<table border=\"1\" class=\"dataframe\">\n",
       "  <thead>\n",
       "    <tr style=\"text-align: right;\">\n",
       "      <th></th>\n",
       "      <th>Age</th>\n",
       "      <th>id</th>\n",
       "      <th>GPA</th>\n",
       "    </tr>\n",
       "  </thead>\n",
       "  <tbody>\n",
       "    <tr>\n",
       "      <th>count</th>\n",
       "      <td>9.000000</td>\n",
       "      <td>9.000000</td>\n",
       "      <td>9.000000</td>\n",
       "    </tr>\n",
       "    <tr>\n",
       "      <th>mean</th>\n",
       "      <td>24.000000</td>\n",
       "      <td>5.000000</td>\n",
       "      <td>3.900000</td>\n",
       "    </tr>\n",
       "    <tr>\n",
       "      <th>std</th>\n",
       "      <td>2.738613</td>\n",
       "      <td>2.738613</td>\n",
       "      <td>0.273861</td>\n",
       "    </tr>\n",
       "    <tr>\n",
       "      <th>min</th>\n",
       "      <td>20.000000</td>\n",
       "      <td>1.000000</td>\n",
       "      <td>3.500000</td>\n",
       "    </tr>\n",
       "    <tr>\n",
       "      <th>25%</th>\n",
       "      <td>22.000000</td>\n",
       "      <td>3.000000</td>\n",
       "      <td>3.700000</td>\n",
       "    </tr>\n",
       "    <tr>\n",
       "      <th>50%</th>\n",
       "      <td>24.000000</td>\n",
       "      <td>5.000000</td>\n",
       "      <td>3.900000</td>\n",
       "    </tr>\n",
       "    <tr>\n",
       "      <th>75%</th>\n",
       "      <td>26.000000</td>\n",
       "      <td>7.000000</td>\n",
       "      <td>4.100000</td>\n",
       "    </tr>\n",
       "    <tr>\n",
       "      <th>max</th>\n",
       "      <td>28.000000</td>\n",
       "      <td>9.000000</td>\n",
       "      <td>4.300000</td>\n",
       "    </tr>\n",
       "  </tbody>\n",
       "</table>\n",
       "</div>"
      ],
      "text/plain": [
       "             Age        id       GPA\n",
       "count   9.000000  9.000000  9.000000\n",
       "mean   24.000000  5.000000  3.900000\n",
       "std     2.738613  2.738613  0.273861\n",
       "min    20.000000  1.000000  3.500000\n",
       "25%    22.000000  3.000000  3.700000\n",
       "50%    24.000000  5.000000  3.900000\n",
       "75%    26.000000  7.000000  4.100000\n",
       "max    28.000000  9.000000  4.300000"
      ]
     },
     "execution_count": 4,
     "metadata": {},
     "output_type": "execute_result"
    }
   ],
   "source": [
    "student.describe()"
   ]
  },
  {
   "cell_type": "code",
   "execution_count": 8,
   "id": "3d14401f",
   "metadata": {},
   "outputs": [
    {
     "name": "stdout",
     "output_type": "stream",
     "text": [
      "[['Tareq' 20 1 3.5 'CSE']\n",
      " ['Ali' 21 2 3.6 'EEE']\n",
      " ['Sara' 22 3 3.7 'BBA']\n",
      " ['Hassan' 23 4 3.8 'CSE']\n",
      " ['Hanan' 24 5 3.9 'EEE']\n",
      " ['Hadi' 25 6 4.0 'BBA']\n",
      " ['alamin' 26 7 4.1 'CSE']\n",
      " ['sakil' 27 8 4.2 'EEE']\n",
      " ['sabbir' 28 9 4.3 'BBA']]\n"
     ]
    }
   ],
   "source": [
    "value = student.values\n",
    "print(value)"
   ]
  },
  {
   "cell_type": "code",
   "execution_count": 10,
   "id": "d0748463",
   "metadata": {},
   "outputs": [
    {
     "name": "stdout",
     "output_type": "stream",
     "text": [
      "0     TAREQ\n",
      "1       ALI\n",
      "2      SARA\n",
      "3    HASSAN\n",
      "4     HANAN\n",
      "5      HADI\n",
      "6    ALAMIN\n",
      "7     SAKIL\n",
      "8    SABBIR\n",
      "Name: Name, dtype: object\n"
     ]
    }
   ],
   "source": [
    "student['Name'] = student['Name'].str.upper()\n",
    "print(student['Name'])"
   ]
  },
  {
   "cell_type": "code",
   "execution_count": 12,
   "id": "8f8709f0",
   "metadata": {},
   "outputs": [
    {
     "name": "stdout",
     "output_type": "stream",
     "text": [
      "0     tareq\n",
      "1       ali\n",
      "2      sara\n",
      "3    hassan\n",
      "4     hanan\n",
      "5      hadi\n",
      "6    alamin\n",
      "7     sakil\n",
      "8    sabbir\n",
      "Name: Name, dtype: object\n"
     ]
    }
   ],
   "source": [
    "student['Name'] = student['Name'].str.lower()\n",
    "print(student['Name'])"
   ]
  },
  {
   "cell_type": "markdown",
   "id": "8f7d3981",
   "metadata": {},
   "source": [
    "Rename student columns"
   ]
  },
  {
   "cell_type": "code",
   "execution_count": null,
   "id": "c7ddd002",
   "metadata": {},
   "outputs": [
    {
     "name": "stdout",
     "output_type": "stream",
     "text": [
      "Index(['Student Name', 'Student Age', 'ID(Roll)', 'GPA', 'Department'], dtype='object')\n"
     ]
    },
    {
     "data": {
      "text/html": [
       "<div>\n",
       "<style scoped>\n",
       "    .dataframe tbody tr th:only-of-type {\n",
       "        vertical-align: middle;\n",
       "    }\n",
       "\n",
       "    .dataframe tbody tr th {\n",
       "        vertical-align: top;\n",
       "    }\n",
       "\n",
       "    .dataframe thead th {\n",
       "        text-align: right;\n",
       "    }\n",
       "</style>\n",
       "<table border=\"1\" class=\"dataframe\">\n",
       "  <thead>\n",
       "    <tr style=\"text-align: right;\">\n",
       "      <th></th>\n",
       "      <th>Student Name</th>\n",
       "      <th>Student Age</th>\n",
       "      <th>ID(Roll)</th>\n",
       "      <th>GPA</th>\n",
       "      <th>Department</th>\n",
       "    </tr>\n",
       "  </thead>\n",
       "  <tbody>\n",
       "    <tr>\n",
       "      <th>0</th>\n",
       "      <td>tareq</td>\n",
       "      <td>20</td>\n",
       "      <td>1</td>\n",
       "      <td>3.5</td>\n",
       "      <td>CSE</td>\n",
       "    </tr>\n",
       "    <tr>\n",
       "      <th>1</th>\n",
       "      <td>ali</td>\n",
       "      <td>21</td>\n",
       "      <td>2</td>\n",
       "      <td>3.6</td>\n",
       "      <td>EEE</td>\n",
       "    </tr>\n",
       "    <tr>\n",
       "      <th>2</th>\n",
       "      <td>sara</td>\n",
       "      <td>22</td>\n",
       "      <td>3</td>\n",
       "      <td>3.7</td>\n",
       "      <td>BBA</td>\n",
       "    </tr>\n",
       "  </tbody>\n",
       "</table>\n",
       "</div>"
      ],
      "text/plain": [
       "  Student Name  Student Age  ID(Roll)  GPA Department\n",
       "0        tareq           20         1  3.5        CSE\n",
       "1          ali           21         2  3.6        EEE\n",
       "2         sara           22         3  3.7        BBA"
      ]
     },
     "execution_count": 32,
     "metadata": {},
     "output_type": "execute_result"
    }
   ],
   "source": [
    "\n",
    "student.rename(columns={'Name': 'Student Name', 'Age': 'Student Age'})\n",
    "print(student.columns)\n",
    "student.head(3)"
   ]
  }
 ],
 "metadata": {
  "kernelspec": {
   "display_name": "Python 3",
   "language": "python",
   "name": "python3"
  },
  "language_info": {
   "codemirror_mode": {
    "name": "ipython",
    "version": 3
   },
   "file_extension": ".py",
   "mimetype": "text/x-python",
   "name": "python",
   "nbconvert_exporter": "python",
   "pygments_lexer": "ipython3",
   "version": "3.13.1"
  }
 },
 "nbformat": 4,
 "nbformat_minor": 5
}
