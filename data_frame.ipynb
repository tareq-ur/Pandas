{
 "cells": [
  {
   "cell_type": "markdown",
   "id": "654228bd",
   "metadata": {},
   "source": [
    "Data frame"
   ]
  },
  {
   "cell_type": "code",
   "execution_count": 1,
   "id": "01ea30fb",
   "metadata": {},
   "outputs": [
    {
     "name": "stdout",
     "output_type": "stream",
     "text": [
      "     Name  Age  id  GPA Department\n",
      "0   Tareq   20   1  3.5        CSE\n",
      "1     Ali   21   2  3.6        EEE\n",
      "2    Sara   22   3  3.7        BBA\n",
      "3  Hassan   23   4  3.8        CSE\n",
      "4   Hanan   24   5  3.9        EEE\n",
      "5    Hadi   25   6  4.0        BBA\n",
      "6  alamin   26   7  4.1        CSE\n",
      "7   sakil   27   8  4.2        EEE\n",
      "8  sabbir   28   9  4.3        BBA\n"
     ]
    }
   ],
   "source": [
    "import numpy  as np\n",
    "\n",
    "import pandas as pd\n",
    "\n",
    "student = pd.DataFrame({\n",
    "    'Name': ['Tareq', 'Ali', 'Sara', 'Hassan', 'Hanan', 'Hadi','alamin','sakil','sabbir'],\n",
    "    'Age': [20, 21, 22, 23, 24, 25,26,27,28],\n",
    "    'id': [1, 2, 3, 4, 5, 6,7,8,9],\n",
    "    'GPA': [3.5, 3.6, 3.7, 3.8, 3.9, 4.0,4.1,4.2,4.3],\n",
    "    'Department': ['CSE', 'EEE', 'BBA', 'CSE', 'EEE', 'BBA','CSE','EEE','BBA']})\n",
    "print(student)\n",
    "\n"
   ]
  },
  {
   "cell_type": "code",
   "execution_count": 2,
   "id": "eaecb499",
   "metadata": {},
   "outputs": [
    {
     "data": {
      "text/html": [
       "<div>\n",
       "<style scoped>\n",
       "    .dataframe tbody tr th:only-of-type {\n",
       "        vertical-align: middle;\n",
       "    }\n",
       "\n",
       "    .dataframe tbody tr th {\n",
       "        vertical-align: top;\n",
       "    }\n",
       "\n",
       "    .dataframe thead th {\n",
       "        text-align: right;\n",
       "    }\n",
       "</style>\n",
       "<table border=\"1\" class=\"dataframe\">\n",
       "  <thead>\n",
       "    <tr style=\"text-align: right;\">\n",
       "      <th></th>\n",
       "      <th>Name</th>\n",
       "      <th>Age</th>\n",
       "      <th>id</th>\n",
       "      <th>GPA</th>\n",
       "      <th>Department</th>\n",
       "    </tr>\n",
       "  </thead>\n",
       "  <tbody>\n",
       "    <tr>\n",
       "      <th>0</th>\n",
       "      <td>Tareq</td>\n",
       "      <td>20</td>\n",
       "      <td>1</td>\n",
       "      <td>3.5</td>\n",
       "      <td>CSE</td>\n",
       "    </tr>\n",
       "    <tr>\n",
       "      <th>1</th>\n",
       "      <td>Ali</td>\n",
       "      <td>21</td>\n",
       "      <td>2</td>\n",
       "      <td>3.6</td>\n",
       "      <td>EEE</td>\n",
       "    </tr>\n",
       "    <tr>\n",
       "      <th>2</th>\n",
       "      <td>Sara</td>\n",
       "      <td>22</td>\n",
       "      <td>3</td>\n",
       "      <td>3.7</td>\n",
       "      <td>BBA</td>\n",
       "    </tr>\n",
       "  </tbody>\n",
       "</table>\n",
       "</div>"
      ],
      "text/plain": [
       "    Name  Age  id  GPA Department\n",
       "0  Tareq   20   1  3.5        CSE\n",
       "1    Ali   21   2  3.6        EEE\n",
       "2   Sara   22   3  3.7        BBA"
      ]
     },
     "execution_count": 2,
     "metadata": {},
     "output_type": "execute_result"
    }
   ],
   "source": [
    "student.head(3)"
   ]
  }
 ],
 "metadata": {
  "kernelspec": {
   "display_name": "Python 3",
   "language": "python",
   "name": "python3"
  },
  "language_info": {
   "codemirror_mode": {
    "name": "ipython",
    "version": 3
   },
   "file_extension": ".py",
   "mimetype": "text/x-python",
   "name": "python",
   "nbconvert_exporter": "python",
   "pygments_lexer": "ipython3",
   "version": "3.13.1"
  }
 },
 "nbformat": 4,
 "nbformat_minor": 5
}
