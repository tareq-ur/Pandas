{
 "cells": [
  {
   "cell_type": "code",
   "execution_count": null,
   "id": "0ae2eb94",
   "metadata": {},
   "outputs": [
    {
     "name": "stdout",
     "output_type": "stream",
     "text": [
      "     Name  Age  id  GPA Department\n",
      "0   Tareq   20   1  3.5        CSE\n",
      "1     Ali   21   2  3.6        EEE\n",
      "2    Sara   22   3  3.7        BBA\n",
      "3  Hassan   23   4  3.8        CSE\n",
      "4   Hanan   24   5  3.9        EEE\n",
      "5    Hadi   25   6  4.0        BBA\n",
      "6  alamin   26   7  4.1        CSE\n",
      "7   sakil   27   8  4.2        EEE\n",
      "8  sabbir   28   9  4.3        BBA\n"
     ]
    }
   ],
   "source": [
    "\n",
    "import numpy  as np\n",
    "\n",
    "import pandas as pd\n",
    "\n",
    "student = pd.DataFrame({\n",
    "    'Name': ['Tareq', 'Ali', 'Sara', 'Hassan', 'Ali', 'Hadi','alamin','sakil','sabbir'],\n",
    "    'Age': [20, 21, 22, 23, 24, 25,26,27,28],\n",
    "    'id': [1, 2, 3, 4, 5, 6,7,8,9],\n",
    "    'GPA': [3.5, 3.6, 3.7, 3.8, 3.9, 4.0,4.1,4.2,4.3],\n",
    "    'Department': ['CSE', 'EEE', 'BBA', 'CSE', 'EEE', 'BBA','CSE','EEE','BBA']})\n",
    "print(student)"
   ]
  },
  {
   "cell_type": "code",
   "execution_count": 3,
   "id": "cf3fc83a",
   "metadata": {},
   "outputs": [
    {
     "name": "stdout",
     "output_type": "stream",
     "text": [
      "0    False\n",
      "1    False\n",
      "2    False\n",
      "3    False\n",
      "4    False\n",
      "5    False\n",
      "6    False\n",
      "7    False\n",
      "8    False\n",
      "dtype: bool\n"
     ]
    }
   ],
   "source": [
    "student.duplicated()\n",
    "# check for duplicate rows  \n",
    "print(student.duplicated())"
   ]
  }
 ],
 "metadata": {
  "kernelspec": {
   "display_name": "Python 3",
   "language": "python",
   "name": "python3"
  },
  "language_info": {
   "codemirror_mode": {
    "name": "ipython",
    "version": 3
   },
   "file_extension": ".py",
   "mimetype": "text/x-python",
   "name": "python",
   "nbconvert_exporter": "python",
   "pygments_lexer": "ipython3",
   "version": "3.13.1"
  }
 },
 "nbformat": 4,
 "nbformat_minor": 5
}
