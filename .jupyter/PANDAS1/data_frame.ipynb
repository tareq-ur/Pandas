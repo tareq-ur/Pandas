{
 "cells": [
  {
   "cell_type": "markdown",
   "id": "ddfc0496",
   "metadata": {},
   "source": [
    "Datafream"
   ]
  },
  {
   "cell_type": "code",
   "execution_count": 23,
   "id": "f1147aed",
   "metadata": {},
   "outputs": [
    {
     "name": "stdout",
     "output_type": "stream",
     "text": [
      "     Name  Age  id  GPA Department\n",
      "0   Tareq   20   1  3.5        CSE\n",
      "1     Ali   21   2  3.6        EEE\n",
      "2    Sara   22   3  3.7        BBA\n",
      "3  Hassan   23   4  3.8        CSE\n",
      "4   Hanan   24   5  3.9        EEE\n",
      "5    Hadi   25   6  4.0        BBA\n",
      "6  alamin   26   7  4.1        CSE\n",
      "7   sakil   27   8  4.2        EEE\n",
      "8  sabbir   28   9  4.3        BBA\n"
     ]
    }
   ],
   "source": [
    "import numpy  as np\n",
    "\n",
    "import pandas as pd\n",
    "\n",
    "student = pd.DataFrame({\n",
    "    'Name': ['Tareq', 'Ali', 'Sara', 'Hassan', 'Hanan', 'Hadi','alamin','sakil','sabbir'],\n",
    "    'Age': [20, 21, 22, 23, 24, 25,26,27,28],\n",
    "    'id': [1, 2, 3, 4, 5, 6,7,8,9],\n",
    "    'GPA': [3.5, 3.6, 3.7, 3.8, 3.9, 4.0,4.1,4.2,4.3],\n",
    "    'Department': ['CSE', 'EEE', 'BBA', 'CSE', 'EEE', 'BBA','CSE','EEE','BBA']})\n",
    "print(student)\n",
    "\n"
   ]
  },
  {
   "cell_type": "markdown",
   "id": "bf1971f8",
   "metadata": {},
   "source": [
    "Display the first 3 rows of the DataFrame"
   ]
  },
  {
   "cell_type": "code",
   "execution_count": 24,
   "id": "8458fe46",
   "metadata": {},
   "outputs": [
    {
     "data": {
      "text/html": [
       "<div>\n",
       "<style scoped>\n",
       "    .dataframe tbody tr th:only-of-type {\n",
       "        vertical-align: middle;\n",
       "    }\n",
       "\n",
       "    .dataframe tbody tr th {\n",
       "        vertical-align: top;\n",
       "    }\n",
       "\n",
       "    .dataframe thead th {\n",
       "        text-align: right;\n",
       "    }\n",
       "</style>\n",
       "<table border=\"1\" class=\"dataframe\">\n",
       "  <thead>\n",
       "    <tr style=\"text-align: right;\">\n",
       "      <th></th>\n",
       "      <th>Name</th>\n",
       "      <th>Age</th>\n",
       "      <th>id</th>\n",
       "      <th>GPA</th>\n",
       "      <th>Department</th>\n",
       "    </tr>\n",
       "  </thead>\n",
       "  <tbody>\n",
       "    <tr>\n",
       "      <th>0</th>\n",
       "      <td>Tareq</td>\n",
       "      <td>20</td>\n",
       "      <td>1</td>\n",
       "      <td>3.5</td>\n",
       "      <td>CSE</td>\n",
       "    </tr>\n",
       "    <tr>\n",
       "      <th>1</th>\n",
       "      <td>Ali</td>\n",
       "      <td>21</td>\n",
       "      <td>2</td>\n",
       "      <td>3.6</td>\n",
       "      <td>EEE</td>\n",
       "    </tr>\n",
       "    <tr>\n",
       "      <th>2</th>\n",
       "      <td>Sara</td>\n",
       "      <td>22</td>\n",
       "      <td>3</td>\n",
       "      <td>3.7</td>\n",
       "      <td>BBA</td>\n",
       "    </tr>\n",
       "  </tbody>\n",
       "</table>\n",
       "</div>"
      ],
      "text/plain": [
       "    Name  Age  id  GPA Department\n",
       "0  Tareq   20   1  3.5        CSE\n",
       "1    Ali   21   2  3.6        EEE\n",
       "2   Sara   22   3  3.7        BBA"
      ]
     },
     "execution_count": 24,
     "metadata": {},
     "output_type": "execute_result"
    }
   ],
   "source": [
    "student.head(3) # Display the first 3 rows of the DataFrame\n",
    " "
   ]
  },
  {
   "cell_type": "markdown",
   "id": "3b2578e8",
   "metadata": {},
   "source": [
    "Display the last 3 rows of the DataFrame"
   ]
  },
  {
   "cell_type": "code",
   "execution_count": 25,
   "id": "eec88de2",
   "metadata": {},
   "outputs": [
    {
     "data": {
      "text/html": [
       "<div>\n",
       "<style scoped>\n",
       "    .dataframe tbody tr th:only-of-type {\n",
       "        vertical-align: middle;\n",
       "    }\n",
       "\n",
       "    .dataframe tbody tr th {\n",
       "        vertical-align: top;\n",
       "    }\n",
       "\n",
       "    .dataframe thead th {\n",
       "        text-align: right;\n",
       "    }\n",
       "</style>\n",
       "<table border=\"1\" class=\"dataframe\">\n",
       "  <thead>\n",
       "    <tr style=\"text-align: right;\">\n",
       "      <th></th>\n",
       "      <th>Name</th>\n",
       "      <th>Age</th>\n",
       "      <th>id</th>\n",
       "      <th>GPA</th>\n",
       "      <th>Department</th>\n",
       "    </tr>\n",
       "  </thead>\n",
       "  <tbody>\n",
       "    <tr>\n",
       "      <th>6</th>\n",
       "      <td>alamin</td>\n",
       "      <td>26</td>\n",
       "      <td>7</td>\n",
       "      <td>4.1</td>\n",
       "      <td>CSE</td>\n",
       "    </tr>\n",
       "    <tr>\n",
       "      <th>7</th>\n",
       "      <td>sakil</td>\n",
       "      <td>27</td>\n",
       "      <td>8</td>\n",
       "      <td>4.2</td>\n",
       "      <td>EEE</td>\n",
       "    </tr>\n",
       "    <tr>\n",
       "      <th>8</th>\n",
       "      <td>sabbir</td>\n",
       "      <td>28</td>\n",
       "      <td>9</td>\n",
       "      <td>4.3</td>\n",
       "      <td>BBA</td>\n",
       "    </tr>\n",
       "  </tbody>\n",
       "</table>\n",
       "</div>"
      ],
      "text/plain": [
       "     Name  Age  id  GPA Department\n",
       "6  alamin   26   7  4.1        CSE\n",
       "7   sakil   27   8  4.2        EEE\n",
       "8  sabbir   28   9  4.3        BBA"
      ]
     },
     "execution_count": 25,
     "metadata": {},
     "output_type": "execute_result"
    }
   ],
   "source": [
    "student.tail(3) # Display the last 3 rows of the DataFrame"
   ]
  },
  {
   "cell_type": "markdown",
   "id": "844c3a27",
   "metadata": {},
   "source": [
    "Select the 'GPA' column"
   ]
  },
  {
   "cell_type": "code",
   "execution_count": 26,
   "id": "652a2c45",
   "metadata": {},
   "outputs": [
    {
     "name": "stdout",
     "output_type": "stream",
     "text": [
      "0    3.5\n",
      "1    3.6\n",
      "2    3.7\n",
      "3    3.8\n",
      "4    3.9\n",
      "5    4.0\n",
      "6    4.1\n",
      "7    4.2\n",
      "8    4.3\n",
      "Name: GPA, dtype: float64\n"
     ]
    }
   ],
   "source": [
    "Gpa = student['GPA'] # Select the 'GPA' column\n",
    "print(Gpa)"
   ]
  },
  {
   "cell_type": "markdown",
   "id": "edc8356a",
   "metadata": {},
   "source": [
    "Convert the 'Name' column to uppercase"
   ]
  },
  {
   "cell_type": "code",
   "execution_count": 27,
   "id": "748a8216",
   "metadata": {},
   "outputs": [
    {
     "name": "stdout",
     "output_type": "stream",
     "text": [
      "0    3.6\n",
      "1    3.7\n",
      "2    3.8\n",
      "3    3.9\n",
      "4    4.0\n",
      "5    4.1\n",
      "6    4.2\n",
      "7    4.3\n",
      "8    4.4\n",
      "Name: GPA, dtype: float64\n"
     ]
    }
   ],
   "source": [
    "student['GPA'] = student['GPA'] + 0.1 # Add 0.1 to each value in the 'GPA' column\n",
    "print(student['GPA']) # Display the updated 'GPA' column"
   ]
  },
  {
   "cell_type": "markdown",
   "id": "6c3f187f",
   "metadata": {},
   "source": [
    "Convert 'col1' to uppercase\n",
    "\n",
    "Convert 'col2' to lowercase"
   ]
  },
  {
   "cell_type": "code",
   "execution_count": null,
   "id": "20fb7e42",
   "metadata": {},
   "outputs": [
    {
     "name": "stdout",
     "output_type": "stream",
     "text": [
      "     col1    col2\n",
      "0   APPLE    date\n",
      "1  BANANA  orange\n",
      "2  CHERRY  grapes\n"
     ]
    }
   ],
   "source": [
    "data = {'col1': ['apple', 'banana', 'cherry'], \n",
    "        'col2': ['dATE', 'oraNGE', 'GRAPES']}\n",
    "df = pd.DataFrame(data)\n",
    "\n",
    "# Convert 'col1' to uppercase\n",
    "df['col1'] = df['col1'].str.upper()\n",
    "\n",
    "# Convert 'col2' to lowercase\n",
    "df['col2'] = df['col2'].str.lower()\n",
    "\n",
    "print(df)"
   ]
  }
 ],
 "metadata": {
  "kernelspec": {
   "display_name": "Python 3",
   "language": "python",
   "name": "python3"
  },
  "language_info": {
   "codemirror_mode": {
    "name": "ipython",
    "version": 3
   },
   "file_extension": ".py",
   "mimetype": "text/x-python",
   "name": "python",
   "nbconvert_exporter": "python",
   "pygments_lexer": "ipython3",
   "version": "3.13.1"
  }
 },
 "nbformat": 4,
 "nbformat_minor": 5
}
